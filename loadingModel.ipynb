{
 "cells": [
  {
   "cell_type": "markdown",
   "id": "0b4487e1",
   "metadata": {},
   "source": [
    "<h1 style=color:yellow>F_Graphs: A tool for elementar mathematical function graphs classification</h1>"
   ]
  },
  {
   "cell_type": "markdown",
   "id": "4e928cf8",
   "metadata": {},
   "source": [
    "<h3 style=color:yellow>Load packages</h3>"
   ]
  },
  {
   "cell_type": "code",
   "execution_count": null,
   "id": "b6ab41bc-fd58-4d82-a9bf-705c9acdd81f",
   "metadata": {},
   "outputs": [],
   "source": [
    "# Load libraries \n",
    "from keras.models import load_model # !pip install keras\n",
    "import matplotlib.pyplot as plt #pip install matplotlib\n",
    "import numpy as np  #pip install numpy\n",
    "import pickle\n",
    "import random\n",
    "import cv2 #!pip install opencv"
   ]
  },
  {
   "cell_type": "markdown",
   "id": "9c793119",
   "metadata": {},
   "source": [
    "<h3 style=color:yellow>Load dataset</h3>"
   ]
  },
  {
   "cell_type": "code",
   "execution_count": null,
   "id": "821ecb57-1eb4-4512-9ff2-0b1e71a833b2",
   "metadata": {},
   "outputs": [],
   "source": [
    "# Load Dataset \n",
    "with open('dataset/dataset.pkl','rb') as f:\n",
    "    data = pickle.load(f)\n",
    "\n",
    "(xt,yt),(xv,yv),(teste,label) = data\n",
    "del xt\n",
    "del yt\n",
    "del xv\n",
    "del yv\n",
    "teste = teste.astype('uint8')\n",
    "teste = np.array([image.reshape((128, 128, 3)) for image in teste])"
   ]
  },
  {
   "cell_type": "markdown",
   "id": "fafbc594",
   "metadata": {},
   "source": [
    "<h3 style=color:yellow>Load model</h3>"
   ]
  },
  {
   "cell_type": "code",
   "execution_count": null,
   "id": "77267696-51f8-4f89-b58d-bc92e07f7a30",
   "metadata": {},
   "outputs": [],
   "source": [
    "# Carregar o modelo treinado\n",
    "GF_Model = load_model('model/LID_gf_modelV7.keras')\n",
    "\n",
    "# Fazer previsões\n",
    "predictions = GF_Model.predict(teste)"
   ]
  },
  {
   "cell_type": "markdown",
   "id": "000a0706",
   "metadata": {},
   "source": [
    "<h3 style=color:yellow>Make predictions with images from the dataset</h3>"
   ]
  },
  {
   "cell_type": "code",
   "execution_count": null,
   "id": "959508f5-2767-43e8-9a63-b541263f85d8",
   "metadata": {},
   "outputs": [],
   "source": [
    "# Visualizar  as imagens\n",
    "img_nr = random.randint(0, teste.shape[0])\n",
    "\n",
    "plt.imshow(teste[img_nr].reshape(128,128,3))\n",
    "plt.show()\n",
    "\n",
    "classes = {0:'linear', 1: 'quadrática', 2:'cúbica', 3:'exponencial', 4:'logarítmica',\n",
    "                    5:'raíz', 6:'seno', 7:'cosseno', 8:'tangente', 9:'cotangente'}\n",
    "\n",
    "print('Previsão do modelo:', classes[np.argmax(predictions[img_nr])])\n",
    "print('Resposta esperada:' , classes[np.argmax(label[img_nr])])"
   ]
  },
  {
   "cell_type": "markdown",
   "id": "69c6ed98",
   "metadata": {},
   "source": [
    "<h3 style=color:yellow>Make predictions with images from the internet</h3>"
   ]
  },
  {
   "cell_type": "code",
   "execution_count": null,
   "id": "431f5667",
   "metadata": {},
   "outputs": [],
   "source": [
    "# Visualizar  as imagens\n",
    "img_url= \"demo_imgs/func0.png\" # substitua aqui o caminho correto para a imagem\n",
    "imagem = cv2.imread(img_url)\n",
    "imagem = cv2.resize(imagem,(128,128), interpolation = cv2.INTER_AREA)\n",
    "discover = np.argmax(GF_Model.predict(imagem.reshape(1,128,128,3)))\n",
    "\n",
    "plt.imshow(imagem)\n",
    "plt.show()\n",
    "\n",
    "classes = {0:'linear', 1: 'quadrática', 2:'cúbica', 3:'exponencial', 4:'logarítmica',\n",
    "                    5:'raíz', 6:'seno', 7:'cosseno', 8:'tangente', 9:'cotangente'}\n",
    "\n",
    "print('É uma função ', classes[discover])"
   ]
  },
  {
   "cell_type": "code",
   "execution_count": null,
   "id": "2a56e6d9",
   "metadata": {},
   "outputs": [],
   "source": []
  }
 ],
 "metadata": {
  "kernelspec": {
   "display_name": "fgraphs",
   "language": "python",
   "name": "python3"
  },
  "language_info": {
   "codemirror_mode": {
    "name": "ipython",
    "version": 3
   },
   "file_extension": ".py",
   "mimetype": "text/x-python",
   "name": "python",
   "nbconvert_exporter": "python",
   "pygments_lexer": "ipython3",
   "version": "3.10.18"
  }
 },
 "nbformat": 4,
 "nbformat_minor": 5
}
